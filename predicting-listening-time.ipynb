{
 "cells": [
  {
   "cell_type": "code",
   "execution_count": 1,
   "id": "8db5d1e6",
   "metadata": {
    "_cell_guid": "b1076dfc-b9ad-4769-8c92-a6c4dae69d19",
    "_uuid": "8f2839f25d086af736a60e9eeb907d3b93b6e0e5",
    "execution": {
     "iopub.execute_input": "2025-04-03T01:53:20.377638Z",
     "iopub.status.busy": "2025-04-03T01:53:20.377220Z",
     "iopub.status.idle": "2025-04-03T01:53:21.462164Z",
     "shell.execute_reply": "2025-04-03T01:53:21.460476Z"
    },
    "papermill": {
     "duration": 1.094347,
     "end_time": "2025-04-03T01:53:21.464435",
     "exception": false,
     "start_time": "2025-04-03T01:53:20.370088",
     "status": "completed"
    },
    "tags": []
   },
   "outputs": [
    {
     "name": "stdout",
     "output_type": "stream",
     "text": [
      "/kaggle/input/playground-series-s5e4/sample_submission.csv\n",
      "/kaggle/input/playground-series-s5e4/train.csv\n",
      "/kaggle/input/playground-series-s5e4/test.csv\n"
     ]
    }
   ],
   "source": [
    "# This Python 3 environment comes with many helpful analytics libraries installed\n",
    "# It is defined by the kaggle/python Docker image: https://github.com/kaggle/docker-python\n",
    "# For example, here's several helpful packages to load\n",
    "\n",
    "import numpy as np # linear algebra\n",
    "import pandas as pd # data processing, CSV file I/O (e.g. pd.read_csv)\n",
    "\n",
    "# Input data files are available in the read-only \"../input/\" directory\n",
    "# For example, running this (by clicking run or pressing Shift+Enter) will list all files under the input directory\n",
    "\n",
    "import os\n",
    "for dirname, _, filenames in os.walk('/kaggle/input'):\n",
    "    for filename in filenames:\n",
    "        print(os.path.join(dirname, filename))\n",
    "\n",
    "# You can write up to 20GB to the current directory (/kaggle/working/) that gets preserved as output when you create a version using \"Save & Run All\" \n",
    "# You can also write temporary files to /kaggle/temp/, but they won't be saved outside of the current session"
   ]
  },
  {
   "cell_type": "code",
   "execution_count": 2,
   "id": "7237bd9d",
   "metadata": {
    "execution": {
     "iopub.execute_input": "2025-04-03T01:53:21.477465Z",
     "iopub.status.busy": "2025-04-03T01:53:21.476914Z",
     "iopub.status.idle": "2025-04-03T01:53:21.484513Z",
     "shell.execute_reply": "2025-04-03T01:53:21.483389Z"
    },
    "papermill": {
     "duration": 0.015854,
     "end_time": "2025-04-03T01:53:21.486658",
     "exception": false,
     "start_time": "2025-04-03T01:53:21.470804",
     "status": "completed"
    },
    "tags": []
   },
   "outputs": [
    {
     "data": {
      "text/plain": [
       "'Your Goal: Your task it to predict listening time of a podcast episode.'"
      ]
     },
     "execution_count": 2,
     "metadata": {},
     "output_type": "execute_result"
    }
   ],
   "source": [
    "\"\"\"Your Goal: Your task it to predict listening time of a podcast episode.\"\"\"\n",
    "# I will be using xgboost since we are comparing Listening_Time_minutes and Episode_Length_minutes"
   ]
  },
  {
   "cell_type": "code",
   "execution_count": 3,
   "id": "535021d7",
   "metadata": {
    "execution": {
     "iopub.execute_input": "2025-04-03T01:53:21.498861Z",
     "iopub.status.busy": "2025-04-03T01:53:21.498445Z",
     "iopub.status.idle": "2025-04-03T01:53:23.782456Z",
     "shell.execute_reply": "2025-04-03T01:53:23.781238Z"
    },
    "papermill": {
     "duration": 2.292547,
     "end_time": "2025-04-03T01:53:23.784590",
     "exception": false,
     "start_time": "2025-04-03T01:53:21.492043",
     "status": "completed"
    },
    "tags": []
   },
   "outputs": [],
   "source": [
    "# Import necessary libraries\n",
    "import numpy as np\n",
    "import pandas as pd\n",
    "from sklearn.impute import SimpleImputer\n",
    "from sklearn.preprocessing import LabelEncoder, OneHotEncoder\n",
    "from sklearn.model_selection import train_test_split\n",
    "from xgboost import XGBRegressor\n",
    "from sklearn.metrics import mean_absolute_error, mean_squared_error, r2_score"
   ]
  },
  {
   "cell_type": "code",
   "execution_count": 4,
   "id": "85e7b0e8",
   "metadata": {
    "execution": {
     "iopub.execute_input": "2025-04-03T01:53:23.797060Z",
     "iopub.status.busy": "2025-04-03T01:53:23.796518Z",
     "iopub.status.idle": "2025-04-03T01:53:26.701421Z",
     "shell.execute_reply": "2025-04-03T01:53:26.700285Z"
    },
    "papermill": {
     "duration": 2.913268,
     "end_time": "2025-04-03T01:53:26.703420",
     "exception": false,
     "start_time": "2025-04-03T01:53:23.790152",
     "status": "completed"
    },
    "tags": []
   },
   "outputs": [],
   "source": [
    "# Load data\n",
    "train_data = pd.read_csv(\"/kaggle/input/playground-series-s5e4/train.csv\")\n",
    "test_data = pd.read_csv(\"/kaggle/input/playground-series-s5e4/test.csv\")"
   ]
  },
  {
   "cell_type": "code",
   "execution_count": 5,
   "id": "a8b071a9",
   "metadata": {
    "execution": {
     "iopub.execute_input": "2025-04-03T01:53:26.715941Z",
     "iopub.status.busy": "2025-04-03T01:53:26.715428Z",
     "iopub.status.idle": "2025-04-03T01:53:26.719780Z",
     "shell.execute_reply": "2025-04-03T01:53:26.718846Z"
    },
    "papermill": {
     "duration": 0.012436,
     "end_time": "2025-04-03T01:53:26.721581",
     "exception": false,
     "start_time": "2025-04-03T01:53:26.709145",
     "status": "completed"
    },
    "tags": []
   },
   "outputs": [],
   "source": [
    "# Handle missing data"
   ]
  },
  {
   "cell_type": "code",
   "execution_count": 6,
   "id": "78e50769",
   "metadata": {
    "execution": {
     "iopub.execute_input": "2025-04-03T01:53:26.733274Z",
     "iopub.status.busy": "2025-04-03T01:53:26.732901Z",
     "iopub.status.idle": "2025-04-03T01:53:26.976922Z",
     "shell.execute_reply": "2025-04-03T01:53:26.975524Z"
    },
    "papermill": {
     "duration": 0.252336,
     "end_time": "2025-04-03T01:53:26.979281",
     "exception": false,
     "start_time": "2025-04-03T01:53:26.726945",
     "status": "completed"
    },
    "tags": []
   },
   "outputs": [
    {
     "name": "stdout",
     "output_type": "stream",
     "text": [
      "id                              0.000000\n",
      "Podcast_Name                    0.000000\n",
      "Episode_Title                   0.000000\n",
      "Episode_Length_minutes         11.612400\n",
      "Genre                           0.000000\n",
      "Host_Popularity_percentage      0.000000\n",
      "Publication_Day                 0.000000\n",
      "Publication_Time                0.000000\n",
      "Guest_Popularity_percentage    19.470667\n",
      "Number_of_Ads                   0.000133\n",
      "Episode_Sentiment               0.000000\n",
      "Listening_Time_minutes          0.000000\n",
      "dtype: float64\n"
     ]
    }
   ],
   "source": [
    "#Finding the missing data in percentages for training data\n",
    "Missing_data = train_data.isna().mean()*100\n",
    "print(Missing_data)"
   ]
  },
  {
   "cell_type": "code",
   "execution_count": 7,
   "id": "92c19ae2",
   "metadata": {
    "execution": {
     "iopub.execute_input": "2025-04-03T01:53:26.991913Z",
     "iopub.status.busy": "2025-04-03T01:53:26.991565Z",
     "iopub.status.idle": "2025-04-03T01:53:27.078087Z",
     "shell.execute_reply": "2025-04-03T01:53:27.076832Z"
    },
    "papermill": {
     "duration": 0.094644,
     "end_time": "2025-04-03T01:53:27.079846",
     "exception": false,
     "start_time": "2025-04-03T01:53:26.985202",
     "status": "completed"
    },
    "tags": []
   },
   "outputs": [
    {
     "name": "stdout",
     "output_type": "stream",
     "text": [
      "id                              0.0000\n",
      "Podcast_Name                    0.0000\n",
      "Episode_Title                   0.0000\n",
      "Episode_Length_minutes         11.4944\n",
      "Genre                           0.0000\n",
      "Host_Popularity_percentage      0.0000\n",
      "Publication_Day                 0.0000\n",
      "Publication_Time                0.0000\n",
      "Guest_Popularity_percentage    19.5328\n",
      "Number_of_Ads                   0.0000\n",
      "Episode_Sentiment               0.0000\n",
      "dtype: float64\n"
     ]
    }
   ],
   "source": [
    "#Finding the missing data in percentage for test data\n",
    "Missing_data = test_data.isna().mean()*100\n",
    "print(Missing_data)"
   ]
  },
  {
   "cell_type": "code",
   "execution_count": 8,
   "id": "9b21aff6",
   "metadata": {
    "execution": {
     "iopub.execute_input": "2025-04-03T01:53:27.092319Z",
     "iopub.status.busy": "2025-04-03T01:53:27.091922Z",
     "iopub.status.idle": "2025-04-03T01:53:27.135328Z",
     "shell.execute_reply": "2025-04-03T01:53:27.133972Z"
    },
    "papermill": {
     "duration": 0.052039,
     "end_time": "2025-04-03T01:53:27.137529",
     "exception": false,
     "start_time": "2025-04-03T01:53:27.085490",
     "status": "completed"
    },
    "tags": []
   },
   "outputs": [],
   "source": [
    "# Fill columns with <5% missing\n",
    "Be_Filled = ['Number_of_Ads']\n",
    "train_data[Be_Filled] = train_data[Be_Filled].fillna(train_data[Be_Filled].mean())# For training data\n",
    "test_data[Be_Filled] = test_data[Be_Filled].fillna(test_data[Be_Filled].mean()) # For test data"
   ]
  },
  {
   "cell_type": "code",
   "execution_count": 9,
   "id": "6c844993",
   "metadata": {
    "execution": {
     "iopub.execute_input": "2025-04-03T01:53:27.149834Z",
     "iopub.status.busy": "2025-04-03T01:53:27.149481Z",
     "iopub.status.idle": "2025-04-03T01:53:27.199382Z",
     "shell.execute_reply": "2025-04-03T01:53:27.198114Z"
    },
    "papermill": {
     "duration": 0.058257,
     "end_time": "2025-04-03T01:53:27.201339",
     "exception": false,
     "start_time": "2025-04-03T01:53:27.143082",
     "status": "completed"
    },
    "tags": []
   },
   "outputs": [],
   "source": [
    "# Fill columns with 5-20% missing\n",
    "Columns_to_impute = ['Episode_Length_minutes']\n",
    "imputer = SimpleImputer(strategy=\"mean\")\n",
    "train_data[Columns_to_impute] = imputer.fit_transform(train_data[Columns_to_impute])#For training  data\n",
    "test_data[Columns_to_impute] = imputer.transform(test_data[Columns_to_impute])#For test data"
   ]
  },
  {
   "cell_type": "code",
   "execution_count": 10,
   "id": "f08f9934",
   "metadata": {
    "execution": {
     "iopub.execute_input": "2025-04-03T01:53:27.213640Z",
     "iopub.status.busy": "2025-04-03T01:53:27.213214Z",
     "iopub.status.idle": "2025-04-03T01:53:27.217634Z",
     "shell.execute_reply": "2025-04-03T01:53:27.216399Z"
    },
    "papermill": {
     "duration": 0.012872,
     "end_time": "2025-04-03T01:53:27.219813",
     "exception": false,
     "start_time": "2025-04-03T01:53:27.206941",
     "status": "completed"
    },
    "tags": []
   },
   "outputs": [],
   "source": [
    "# Encode categorical data"
   ]
  },
  {
   "cell_type": "code",
   "execution_count": 11,
   "id": "da9612e8",
   "metadata": {
    "execution": {
     "iopub.execute_input": "2025-04-03T01:53:27.232872Z",
     "iopub.status.busy": "2025-04-03T01:53:27.232518Z",
     "iopub.status.idle": "2025-04-03T01:53:27.237086Z",
     "shell.execute_reply": "2025-04-03T01:53:27.236046Z"
    },
    "papermill": {
     "duration": 0.013517,
     "end_time": "2025-04-03T01:53:27.238857",
     "exception": false,
     "start_time": "2025-04-03T01:53:27.225340",
     "status": "completed"
    },
    "tags": []
   },
   "outputs": [],
   "source": [
    "# Initialize encoders for each categorical column\n",
    "encoders = {\n",
    "    'Podcast_Name': LabelEncoder(),\n",
    "    'Episode_Title': LabelEncoder(),\n",
    "    'Genre': LabelEncoder(),\n",
    "    'Publication_Time': LabelEncoder(),\n",
    "    'Publication_Day': LabelEncoder()\n",
    "}"
   ]
  },
  {
   "cell_type": "code",
   "execution_count": 12,
   "id": "7bea4c40",
   "metadata": {
    "execution": {
     "iopub.execute_input": "2025-04-03T01:53:27.251565Z",
     "iopub.status.busy": "2025-04-03T01:53:27.251146Z",
     "iopub.status.idle": "2025-04-03T01:53:28.019555Z",
     "shell.execute_reply": "2025-04-03T01:53:28.018397Z"
    },
    "papermill": {
     "duration": 0.777328,
     "end_time": "2025-04-03T01:53:28.021668",
     "exception": false,
     "start_time": "2025-04-03T01:53:27.244340",
     "status": "completed"
    },
    "tags": []
   },
   "outputs": [],
   "source": [
    "# Fit and transform on training data\n",
    "for col, encoder in encoders.items():\n",
    "    train_data[f\"{col}_Encoded\"] = encoder.fit_transform(train_data[col])"
   ]
  },
  {
   "cell_type": "code",
   "execution_count": 13,
   "id": "dd305133",
   "metadata": {
    "execution": {
     "iopub.execute_input": "2025-04-03T01:53:28.034185Z",
     "iopub.status.busy": "2025-04-03T01:53:28.033838Z",
     "iopub.status.idle": "2025-04-03T01:53:36.780575Z",
     "shell.execute_reply": "2025-04-03T01:53:36.779337Z"
    },
    "papermill": {
     "duration": 8.755025,
     "end_time": "2025-04-03T01:53:36.782572",
     "exception": false,
     "start_time": "2025-04-03T01:53:28.027547",
     "status": "completed"
    },
    "tags": []
   },
   "outputs": [],
   "source": [
    "# Transform test data using the same encoders\n",
    "for col, encoder in encoders.items():\n",
    "    # Handle unseen labels by assigning a default value (e.g., -1)\n",
    "    test_data[f\"{col}_Encoded\"] = test_data[col].apply(lambda x: x if x in encoder.classes_ else 'Unknown')\n",
    "    # Update encoder classes to include 'Unknown' if not already present\n",
    "    if 'Unknown' not in encoder.classes_:\n",
    "        encoder.classes_ = np.append(encoder.classes_, 'Unknown')\n",
    "    test_data[f\"{col}_Encoded\"] = encoder.transform(test_data[col])"
   ]
  },
  {
   "cell_type": "code",
   "execution_count": 14,
   "id": "c73ccbe8",
   "metadata": {
    "execution": {
     "iopub.execute_input": "2025-04-03T01:53:36.795499Z",
     "iopub.status.busy": "2025-04-03T01:53:36.795116Z",
     "iopub.status.idle": "2025-04-03T01:53:37.169004Z",
     "shell.execute_reply": "2025-04-03T01:53:37.167992Z"
    },
    "papermill": {
     "duration": 0.382768,
     "end_time": "2025-04-03T01:53:37.171239",
     "exception": false,
     "start_time": "2025-04-03T01:53:36.788471",
     "status": "completed"
    },
    "tags": []
   },
   "outputs": [],
   "source": [
    "# One-hot encode Episode_Sentiment\n",
    "onehot_encoder = OneHotEncoder(drop='first', sparse_output=False)\n",
    "onehot_train = onehot_encoder.fit_transform(train_data[[\"Episode_Sentiment\"]])\n",
    "onehot_test = onehot_encoder.transform(test_data[[\"Episode_Sentiment\"]])"
   ]
  },
  {
   "cell_type": "code",
   "execution_count": 15,
   "id": "9554b558",
   "metadata": {
    "execution": {
     "iopub.execute_input": "2025-04-03T01:53:37.183802Z",
     "iopub.status.busy": "2025-04-03T01:53:37.183412Z",
     "iopub.status.idle": "2025-04-03T01:53:37.188874Z",
     "shell.execute_reply": "2025-04-03T01:53:37.187896Z"
    },
    "papermill": {
     "duration": 0.01376,
     "end_time": "2025-04-03T01:53:37.190583",
     "exception": false,
     "start_time": "2025-04-03T01:53:37.176823",
     "status": "completed"
    },
    "tags": []
   },
   "outputs": [],
   "source": [
    "# Create DataFrames for one-hot encoded features\n",
    "onehot_cols = onehot_encoder.get_feature_names_out([\"Episode_Sentiment\"])\n",
    "onehot_train_df = pd.DataFrame(onehot_train, columns=onehot_cols, index=train_data.index)\n",
    "onehot_test_df = pd.DataFrame(onehot_test, columns=onehot_cols, index=test_data.index)"
   ]
  },
  {
   "cell_type": "code",
   "execution_count": 16,
   "id": "b1b03370",
   "metadata": {
    "execution": {
     "iopub.execute_input": "2025-04-03T01:53:37.202904Z",
     "iopub.status.busy": "2025-04-03T01:53:37.202462Z",
     "iopub.status.idle": "2025-04-03T01:53:37.206931Z",
     "shell.execute_reply": "2025-04-03T01:53:37.205839Z"
    },
    "papermill": {
     "duration": 0.012659,
     "end_time": "2025-04-03T01:53:37.208775",
     "exception": false,
     "start_time": "2025-04-03T01:53:37.196116",
     "status": "completed"
    },
    "tags": []
   },
   "outputs": [],
   "source": [
    "# Drop original categorical columns\n",
    "columns_to_drop = ['Podcast_Name', 'Episode_Title', 'Genre', 'Publication_Time', 'Publication_Day', 'Episode_Sentiment']"
   ]
  },
  {
   "cell_type": "code",
   "execution_count": 17,
   "id": "e2148575",
   "metadata": {
    "execution": {
     "iopub.execute_input": "2025-04-03T01:53:37.221220Z",
     "iopub.status.busy": "2025-04-03T01:53:37.220727Z",
     "iopub.status.idle": "2025-04-03T01:53:37.425199Z",
     "shell.execute_reply": "2025-04-03T01:53:37.423939Z"
    },
    "papermill": {
     "duration": 0.21293,
     "end_time": "2025-04-03T01:53:37.427302",
     "exception": false,
     "start_time": "2025-04-03T01:53:37.214372",
     "status": "completed"
    },
    "tags": []
   },
   "outputs": [],
   "source": [
    "final_train_data = pd.concat([train_data.drop(columns=columns_to_drop), onehot_train_df], axis=1)\n",
    "final_test_data = pd.concat([test_data.drop(columns=columns_to_drop), onehot_test_df], axis=1)"
   ]
  },
  {
   "cell_type": "code",
   "execution_count": 18,
   "id": "7da7606d",
   "metadata": {
    "execution": {
     "iopub.execute_input": "2025-04-03T01:53:37.439655Z",
     "iopub.status.busy": "2025-04-03T01:53:37.439248Z",
     "iopub.status.idle": "2025-04-03T01:53:37.459048Z",
     "shell.execute_reply": "2025-04-03T01:53:37.457923Z"
    },
    "papermill": {
     "duration": 0.02816,
     "end_time": "2025-04-03T01:53:37.461075",
     "exception": false,
     "start_time": "2025-04-03T01:53:37.432915",
     "status": "completed"
    },
    "tags": []
   },
   "outputs": [],
   "source": [
    "# Prepare features and target\n",
    "X = final_train_data.drop(\"Listening_Time_minutes\", axis=1)\n",
    "y = final_train_data[\"Listening_Time_minutes\"]"
   ]
  },
  {
   "cell_type": "code",
   "execution_count": 19,
   "id": "116fab49",
   "metadata": {
    "execution": {
     "iopub.execute_input": "2025-04-03T01:53:37.473508Z",
     "iopub.status.busy": "2025-04-03T01:53:37.473122Z",
     "iopub.status.idle": "2025-04-03T01:53:37.632364Z",
     "shell.execute_reply": "2025-04-03T01:53:37.630985Z"
    },
    "papermill": {
     "duration": 0.16772,
     "end_time": "2025-04-03T01:53:37.634352",
     "exception": false,
     "start_time": "2025-04-03T01:53:37.466632",
     "status": "completed"
    },
    "tags": []
   },
   "outputs": [],
   "source": [
    "# Train-test split for validation\n",
    "X_train, X_val, y_train, y_val = train_test_split(X, y, test_size=0.2, random_state=42)"
   ]
  },
  {
   "cell_type": "code",
   "execution_count": 20,
   "id": "70e43fab",
   "metadata": {
    "execution": {
     "iopub.execute_input": "2025-04-03T01:53:37.647084Z",
     "iopub.status.busy": "2025-04-03T01:53:37.646708Z",
     "iopub.status.idle": "2025-04-03T01:53:43.318073Z",
     "shell.execute_reply": "2025-04-03T01:53:43.317046Z"
    },
    "papermill": {
     "duration": 5.679906,
     "end_time": "2025-04-03T01:53:43.319925",
     "exception": false,
     "start_time": "2025-04-03T01:53:37.640019",
     "status": "completed"
    },
    "tags": []
   },
   "outputs": [
    {
     "data": {
      "text/html": [
       "<style>#sk-container-id-1 {color: black;background-color: white;}#sk-container-id-1 pre{padding: 0;}#sk-container-id-1 div.sk-toggleable {background-color: white;}#sk-container-id-1 label.sk-toggleable__label {cursor: pointer;display: block;width: 100%;margin-bottom: 0;padding: 0.3em;box-sizing: border-box;text-align: center;}#sk-container-id-1 label.sk-toggleable__label-arrow:before {content: \"▸\";float: left;margin-right: 0.25em;color: #696969;}#sk-container-id-1 label.sk-toggleable__label-arrow:hover:before {color: black;}#sk-container-id-1 div.sk-estimator:hover label.sk-toggleable__label-arrow:before {color: black;}#sk-container-id-1 div.sk-toggleable__content {max-height: 0;max-width: 0;overflow: hidden;text-align: left;background-color: #f0f8ff;}#sk-container-id-1 div.sk-toggleable__content pre {margin: 0.2em;color: black;border-radius: 0.25em;background-color: #f0f8ff;}#sk-container-id-1 input.sk-toggleable__control:checked~div.sk-toggleable__content {max-height: 200px;max-width: 100%;overflow: auto;}#sk-container-id-1 input.sk-toggleable__control:checked~label.sk-toggleable__label-arrow:before {content: \"▾\";}#sk-container-id-1 div.sk-estimator input.sk-toggleable__control:checked~label.sk-toggleable__label {background-color: #d4ebff;}#sk-container-id-1 div.sk-label input.sk-toggleable__control:checked~label.sk-toggleable__label {background-color: #d4ebff;}#sk-container-id-1 input.sk-hidden--visually {border: 0;clip: rect(1px 1px 1px 1px);clip: rect(1px, 1px, 1px, 1px);height: 1px;margin: -1px;overflow: hidden;padding: 0;position: absolute;width: 1px;}#sk-container-id-1 div.sk-estimator {font-family: monospace;background-color: #f0f8ff;border: 1px dotted black;border-radius: 0.25em;box-sizing: border-box;margin-bottom: 0.5em;}#sk-container-id-1 div.sk-estimator:hover {background-color: #d4ebff;}#sk-container-id-1 div.sk-parallel-item::after {content: \"\";width: 100%;border-bottom: 1px solid gray;flex-grow: 1;}#sk-container-id-1 div.sk-label:hover label.sk-toggleable__label {background-color: #d4ebff;}#sk-container-id-1 div.sk-serial::before {content: \"\";position: absolute;border-left: 1px solid gray;box-sizing: border-box;top: 0;bottom: 0;left: 50%;z-index: 0;}#sk-container-id-1 div.sk-serial {display: flex;flex-direction: column;align-items: center;background-color: white;padding-right: 0.2em;padding-left: 0.2em;position: relative;}#sk-container-id-1 div.sk-item {position: relative;z-index: 1;}#sk-container-id-1 div.sk-parallel {display: flex;align-items: stretch;justify-content: center;background-color: white;position: relative;}#sk-container-id-1 div.sk-item::before, #sk-container-id-1 div.sk-parallel-item::before {content: \"\";position: absolute;border-left: 1px solid gray;box-sizing: border-box;top: 0;bottom: 0;left: 50%;z-index: -1;}#sk-container-id-1 div.sk-parallel-item {display: flex;flex-direction: column;z-index: 1;position: relative;background-color: white;}#sk-container-id-1 div.sk-parallel-item:first-child::after {align-self: flex-end;width: 50%;}#sk-container-id-1 div.sk-parallel-item:last-child::after {align-self: flex-start;width: 50%;}#sk-container-id-1 div.sk-parallel-item:only-child::after {width: 0;}#sk-container-id-1 div.sk-dashed-wrapped {border: 1px dashed gray;margin: 0 0.4em 0.5em 0.4em;box-sizing: border-box;padding-bottom: 0.4em;background-color: white;}#sk-container-id-1 div.sk-label label {font-family: monospace;font-weight: bold;display: inline-block;line-height: 1.2em;}#sk-container-id-1 div.sk-label-container {text-align: center;}#sk-container-id-1 div.sk-container {/* jupyter's `normalize.less` sets `[hidden] { display: none; }` but bootstrap.min.css set `[hidden] { display: none !important; }` so we also need the `!important` here to be able to override the default hidden behavior on the sphinx rendered scikit-learn.org. See: https://github.com/scikit-learn/scikit-learn/issues/21755 */display: inline-block !important;position: relative;}#sk-container-id-1 div.sk-text-repr-fallback {display: none;}</style><div id=\"sk-container-id-1\" class=\"sk-top-container\"><div class=\"sk-text-repr-fallback\"><pre>XGBRegressor(base_score=None, booster=None, callbacks=None,\n",
       "             colsample_bylevel=None, colsample_bynode=None,\n",
       "             colsample_bytree=None, device=None, early_stopping_rounds=None,\n",
       "             enable_categorical=False, eval_metric=None, feature_types=None,\n",
       "             gamma=None, grow_policy=None, importance_type=None,\n",
       "             interaction_constraints=None, learning_rate=None, max_bin=None,\n",
       "             max_cat_threshold=None, max_cat_to_onehot=None,\n",
       "             max_delta_step=None, max_depth=None, max_leaves=None,\n",
       "             min_child_weight=None, missing=nan, monotone_constraints=None,\n",
       "             multi_strategy=None, n_estimators=None, n_jobs=None,\n",
       "             num_parallel_tree=None, random_state=None, ...)</pre><b>In a Jupyter environment, please rerun this cell to show the HTML representation or trust the notebook. <br />On GitHub, the HTML representation is unable to render, please try loading this page with nbviewer.org.</b></div><div class=\"sk-container\" hidden><div class=\"sk-item\"><div class=\"sk-estimator sk-toggleable\"><input class=\"sk-toggleable__control sk-hidden--visually\" id=\"sk-estimator-id-1\" type=\"checkbox\" checked><label for=\"sk-estimator-id-1\" class=\"sk-toggleable__label sk-toggleable__label-arrow\">XGBRegressor</label><div class=\"sk-toggleable__content\"><pre>XGBRegressor(base_score=None, booster=None, callbacks=None,\n",
       "             colsample_bylevel=None, colsample_bynode=None,\n",
       "             colsample_bytree=None, device=None, early_stopping_rounds=None,\n",
       "             enable_categorical=False, eval_metric=None, feature_types=None,\n",
       "             gamma=None, grow_policy=None, importance_type=None,\n",
       "             interaction_constraints=None, learning_rate=None, max_bin=None,\n",
       "             max_cat_threshold=None, max_cat_to_onehot=None,\n",
       "             max_delta_step=None, max_depth=None, max_leaves=None,\n",
       "             min_child_weight=None, missing=nan, monotone_constraints=None,\n",
       "             multi_strategy=None, n_estimators=None, n_jobs=None,\n",
       "             num_parallel_tree=None, random_state=None, ...)</pre></div></div></div></div></div>"
      ],
      "text/plain": [
       "XGBRegressor(base_score=None, booster=None, callbacks=None,\n",
       "             colsample_bylevel=None, colsample_bynode=None,\n",
       "             colsample_bytree=None, device=None, early_stopping_rounds=None,\n",
       "             enable_categorical=False, eval_metric=None, feature_types=None,\n",
       "             gamma=None, grow_policy=None, importance_type=None,\n",
       "             interaction_constraints=None, learning_rate=None, max_bin=None,\n",
       "             max_cat_threshold=None, max_cat_to_onehot=None,\n",
       "             max_delta_step=None, max_depth=None, max_leaves=None,\n",
       "             min_child_weight=None, missing=nan, monotone_constraints=None,\n",
       "             multi_strategy=None, n_estimators=None, n_jobs=None,\n",
       "             num_parallel_tree=None, random_state=None, ...)"
      ]
     },
     "execution_count": 20,
     "metadata": {},
     "output_type": "execute_result"
    }
   ],
   "source": [
    "# Train XGBoost model\n",
    "model = XGBRegressor()\n",
    "model.fit(X_train, y_train)"
   ]
  },
  {
   "cell_type": "code",
   "execution_count": 21,
   "id": "27edd3a5",
   "metadata": {
    "execution": {
     "iopub.execute_input": "2025-04-03T01:53:43.332911Z",
     "iopub.status.busy": "2025-04-03T01:53:43.332543Z",
     "iopub.status.idle": "2025-04-03T01:53:43.535952Z",
     "shell.execute_reply": "2025-04-03T01:53:43.534558Z"
    },
    "papermill": {
     "duration": 0.212368,
     "end_time": "2025-04-03T01:53:43.538030",
     "exception": false,
     "start_time": "2025-04-03T01:53:43.325662",
     "status": "completed"
    },
    "tags": []
   },
   "outputs": [
    {
     "name": "stdout",
     "output_type": "stream",
     "text": [
      "MAE: 9.46\n",
      "R²: 0.77\n"
     ]
    }
   ],
   "source": [
    "# Validate\n",
    "y_pred = model.predict(X_val)\n",
    "print(f\"MAE: {mean_absolute_error(y_val, y_pred):.2f}\")\n",
    "print(f\"R²: {r2_score(y_val, y_pred):.2f}\")"
   ]
  },
  {
   "cell_type": "code",
   "execution_count": 22,
   "id": "7781e5cc",
   "metadata": {
    "execution": {
     "iopub.execute_input": "2025-04-03T01:53:43.551014Z",
     "iopub.status.busy": "2025-04-03T01:53:43.550644Z",
     "iopub.status.idle": "2025-04-03T01:53:43.835919Z",
     "shell.execute_reply": "2025-04-03T01:53:43.834985Z"
    },
    "papermill": {
     "duration": 0.294382,
     "end_time": "2025-04-03T01:53:43.838212",
     "exception": false,
     "start_time": "2025-04-03T01:53:43.543830",
     "status": "completed"
    },
    "tags": []
   },
   "outputs": [],
   "source": [
    "# Predict on test data\n",
    "test_pred = model.predict(final_test_data)"
   ]
  },
  {
   "cell_type": "code",
   "execution_count": 23,
   "id": "d5735f73",
   "metadata": {
    "execution": {
     "iopub.execute_input": "2025-04-03T01:53:43.851319Z",
     "iopub.status.busy": "2025-04-03T01:53:43.850886Z",
     "iopub.status.idle": "2025-04-03T01:53:44.222155Z",
     "shell.execute_reply": "2025-04-03T01:53:44.220854Z"
    },
    "papermill": {
     "duration": 0.379835,
     "end_time": "2025-04-03T01:53:44.223949",
     "exception": false,
     "start_time": "2025-04-03T01:53:43.844114",
     "status": "completed"
    },
    "tags": []
   },
   "outputs": [
    {
     "name": "stdout",
     "output_type": "stream",
     "text": [
      "Submission shape: (250000, 2)\n"
     ]
    }
   ],
   "source": [
    "# Create submission file\n",
    "submission = pd.DataFrame({\"id\": test_data[\"id\"], \"Listening_Time_minutes\": test_pred})\n",
    "submission.to_csv(\"submission.csv\", index=False)\n",
    "print(\"Submission shape:\", submission.shape)"
   ]
  }
 ],
 "metadata": {
  "kaggle": {
   "accelerator": "none",
   "dataSources": [
    {
     "databundleVersionId": 11351736,
     "sourceId": 91715,
     "sourceType": "competition"
    }
   ],
   "dockerImageVersionId": 30918,
   "isGpuEnabled": false,
   "isInternetEnabled": true,
   "language": "python",
   "sourceType": "notebook"
  },
  "kernelspec": {
   "display_name": "Python 3",
   "language": "python",
   "name": "python3"
  },
  "language_info": {
   "codemirror_mode": {
    "name": "ipython",
    "version": 3
   },
   "file_extension": ".py",
   "mimetype": "text/x-python",
   "name": "python",
   "nbconvert_exporter": "python",
   "pygments_lexer": "ipython3",
   "version": "3.10.12"
  },
  "papermill": {
   "default_parameters": {},
   "duration": 27.655288,
   "end_time": "2025-04-03T01:53:45.051357",
   "environment_variables": {},
   "exception": null,
   "input_path": "__notebook__.ipynb",
   "output_path": "__notebook__.ipynb",
   "parameters": {},
   "start_time": "2025-04-03T01:53:17.396069",
   "version": "2.6.0"
  }
 },
 "nbformat": 4,
 "nbformat_minor": 5
}
