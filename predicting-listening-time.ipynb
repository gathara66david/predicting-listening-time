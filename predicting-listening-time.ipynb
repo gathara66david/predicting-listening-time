{
 "cells": [
  {
   "cell_type": "code",
   "execution_count": 1,
   "id": "a87640b8",
   "metadata": {
    "_cell_guid": "b1076dfc-b9ad-4769-8c92-a6c4dae69d19",
    "_uuid": "8f2839f25d086af736a60e9eeb907d3b93b6e0e5",
    "execution": {
     "iopub.execute_input": "2025-04-03T01:42:22.071129Z",
     "iopub.status.busy": "2025-04-03T01:42:22.070785Z",
     "iopub.status.idle": "2025-04-03T01:42:23.122955Z",
     "shell.execute_reply": "2025-04-03T01:42:23.121691Z"
    },
    "papermill": {
     "duration": 1.060867,
     "end_time": "2025-04-03T01:42:23.125008",
     "exception": false,
     "start_time": "2025-04-03T01:42:22.064141",
     "status": "completed"
    },
    "tags": []
   },
   "outputs": [
    {
     "name": "stdout",
     "output_type": "stream",
     "text": [
      "/kaggle/input/playground-series-s5e4/sample_submission.csv\n",
      "/kaggle/input/playground-series-s5e4/train.csv\n",
      "/kaggle/input/playground-series-s5e4/test.csv\n"
     ]
    }
   ],
   "source": [
    "# This Python 3 environment comes with many helpful analytics libraries installed\n",
    "# It is defined by the kaggle/python Docker image: https://github.com/kaggle/docker-python\n",
    "# For example, here's several helpful packages to load\n",
    "\n",
    "import numpy as np # linear algebra\n",
    "import pandas as pd # data processing, CSV file I/O (e.g. pd.read_csv)\n",
    "\n",
    "# Input data files are available in the read-only \"../input/\" directory\n",
    "# For example, running this (by clicking run or pressing Shift+Enter) will list all files under the input directory\n",
    "\n",
    "import os\n",
    "for dirname, _, filenames in os.walk('/kaggle/input'):\n",
    "    for filename in filenames:\n",
    "        print(os.path.join(dirname, filename))\n",
    "\n",
    "# You can write up to 20GB to the current directory (/kaggle/working/) that gets preserved as output when you create a version using \"Save & Run All\" \n",
    "# You can also write temporary files to /kaggle/temp/, but they won't be saved outside of the current session"
   ]
  },
  {
   "cell_type": "code",
   "execution_count": 2,
   "id": "df30f903",
   "metadata": {
    "execution": {
     "iopub.execute_input": "2025-04-03T01:42:23.136619Z",
     "iopub.status.busy": "2025-04-03T01:42:23.136112Z",
     "iopub.status.idle": "2025-04-03T01:42:23.143216Z",
     "shell.execute_reply": "2025-04-03T01:42:23.142056Z"
    },
    "papermill": {
     "duration": 0.015041,
     "end_time": "2025-04-03T01:42:23.145196",
     "exception": false,
     "start_time": "2025-04-03T01:42:23.130155",
     "status": "completed"
    },
    "tags": []
   },
   "outputs": [
    {
     "data": {
      "text/plain": [
       "'Your Goal: Your task it to predict listening time of a podcast episode.'"
      ]
     },
     "execution_count": 2,
     "metadata": {},
     "output_type": "execute_result"
    }
   ],
   "source": [
    "\"\"\"Your Goal: Your task it to predict listening time of a podcast episode.\"\"\"\n",
    "# I will be using xgboost since we are comparing Listening_Time_minutes and Episode_Length_minutes"
   ]
  },
  {
   "cell_type": "code",
   "execution_count": 3,
   "id": "11206c44",
   "metadata": {
    "execution": {
     "iopub.execute_input": "2025-04-03T01:42:23.156301Z",
     "iopub.status.busy": "2025-04-03T01:42:23.155941Z",
     "iopub.status.idle": "2025-04-03T01:42:25.475585Z",
     "shell.execute_reply": "2025-04-03T01:42:25.473468Z"
    },
    "papermill": {
     "duration": 2.32764,
     "end_time": "2025-04-03T01:42:25.477835",
     "exception": false,
     "start_time": "2025-04-03T01:42:23.150195",
     "status": "completed"
    },
    "tags": []
   },
   "outputs": [],
   "source": [
    "# Import necessary libraries\n",
    "import numpy as np\n",
    "import pandas as pd\n",
    "from sklearn.impute import SimpleImputer\n",
    "from sklearn.preprocessing import LabelEncoder, OneHotEncoder\n",
    "from sklearn.model_selection import train_test_split\n",
    "from xgboost import XGBRegressor\n",
    "from sklearn.metrics import mean_absolute_error, mean_squared_error, r2_score"
   ]
  },
  {
   "cell_type": "code",
   "execution_count": 4,
   "id": "38ac39d4",
   "metadata": {
    "execution": {
     "iopub.execute_input": "2025-04-03T01:42:25.489954Z",
     "iopub.status.busy": "2025-04-03T01:42:25.489393Z",
     "iopub.status.idle": "2025-04-03T01:42:28.382477Z",
     "shell.execute_reply": "2025-04-03T01:42:28.381636Z"
    },
    "papermill": {
     "duration": 2.900933,
     "end_time": "2025-04-03T01:42:28.384371",
     "exception": false,
     "start_time": "2025-04-03T01:42:25.483438",
     "status": "completed"
    },
    "tags": []
   },
   "outputs": [],
   "source": [
    "# Load data\n",
    "train_data = pd.read_csv(\"/kaggle/input/playground-series-s5e4/train.csv\")\n",
    "test_data = pd.read_csv(\"/kaggle/input/playground-series-s5e4/test.csv\")"
   ]
  },
  {
   "cell_type": "code",
   "execution_count": 5,
   "id": "dd0b6308",
   "metadata": {
    "execution": {
     "iopub.execute_input": "2025-04-03T01:42:28.395609Z",
     "iopub.status.busy": "2025-04-03T01:42:28.395212Z",
     "iopub.status.idle": "2025-04-03T01:42:28.399295Z",
     "shell.execute_reply": "2025-04-03T01:42:28.398221Z"
    },
    "papermill": {
     "duration": 0.011838,
     "end_time": "2025-04-03T01:42:28.401184",
     "exception": false,
     "start_time": "2025-04-03T01:42:28.389346",
     "status": "completed"
    },
    "tags": []
   },
   "outputs": [],
   "source": [
    "# Handle missing data"
   ]
  },
  {
   "cell_type": "code",
   "execution_count": 6,
   "id": "87e0981d",
   "metadata": {
    "execution": {
     "iopub.execute_input": "2025-04-03T01:42:28.413342Z",
     "iopub.status.busy": "2025-04-03T01:42:28.413005Z",
     "iopub.status.idle": "2025-04-03T01:42:28.458277Z",
     "shell.execute_reply": "2025-04-03T01:42:28.456943Z"
    },
    "papermill": {
     "duration": 0.05351,
     "end_time": "2025-04-03T01:42:28.460360",
     "exception": false,
     "start_time": "2025-04-03T01:42:28.406850",
     "status": "completed"
    },
    "tags": []
   },
   "outputs": [],
   "source": [
    "# Fill columns with <5% missing\n",
    "Be_Filled = ['Number_of_Ads']\n",
    "train_data[Be_Filled] = train_data[Be_Filled].fillna(train_data[Be_Filled].mean())\n",
    "test_data[Be_Filled] = test_data[Be_Filled].fillna(test_data[Be_Filled].mean())"
   ]
  },
  {
   "cell_type": "code",
   "execution_count": 7,
   "id": "bda9a6a9",
   "metadata": {
    "execution": {
     "iopub.execute_input": "2025-04-03T01:42:28.471614Z",
     "iopub.status.busy": "2025-04-03T01:42:28.471218Z",
     "iopub.status.idle": "2025-04-03T01:42:28.522614Z",
     "shell.execute_reply": "2025-04-03T01:42:28.521620Z"
    },
    "papermill": {
     "duration": 0.059138,
     "end_time": "2025-04-03T01:42:28.524528",
     "exception": false,
     "start_time": "2025-04-03T01:42:28.465390",
     "status": "completed"
    },
    "tags": []
   },
   "outputs": [],
   "source": [
    "# Fill columns with 5-20% missing\n",
    "Columns_to_impute = ['Episode_Length_minutes']\n",
    "imputer = SimpleImputer(strategy=\"mean\")\n",
    "train_data[Columns_to_impute] = imputer.fit_transform(train_data[Columns_to_impute])\n",
    "test_data[Columns_to_impute] = imputer.transform(test_data[Columns_to_impute])"
   ]
  },
  {
   "cell_type": "code",
   "execution_count": 8,
   "id": "64d920b6",
   "metadata": {
    "execution": {
     "iopub.execute_input": "2025-04-03T01:42:28.535476Z",
     "iopub.status.busy": "2025-04-03T01:42:28.535144Z",
     "iopub.status.idle": "2025-04-03T01:42:28.539323Z",
     "shell.execute_reply": "2025-04-03T01:42:28.538229Z"
    },
    "papermill": {
     "duration": 0.011894,
     "end_time": "2025-04-03T01:42:28.541294",
     "exception": false,
     "start_time": "2025-04-03T01:42:28.529400",
     "status": "completed"
    },
    "tags": []
   },
   "outputs": [],
   "source": [
    "# Encode categorical data"
   ]
  },
  {
   "cell_type": "code",
   "execution_count": 9,
   "id": "40b9441e",
   "metadata": {
    "execution": {
     "iopub.execute_input": "2025-04-03T01:42:28.552380Z",
     "iopub.status.busy": "2025-04-03T01:42:28.552044Z",
     "iopub.status.idle": "2025-04-03T01:42:28.556808Z",
     "shell.execute_reply": "2025-04-03T01:42:28.555642Z"
    },
    "papermill": {
     "duration": 0.01225,
     "end_time": "2025-04-03T01:42:28.558493",
     "exception": false,
     "start_time": "2025-04-03T01:42:28.546243",
     "status": "completed"
    },
    "tags": []
   },
   "outputs": [],
   "source": [
    "# Initialize encoders for each categorical column\n",
    "encoders = {\n",
    "    'Podcast_Name': LabelEncoder(),\n",
    "    'Episode_Title': LabelEncoder(),\n",
    "    'Genre': LabelEncoder(),\n",
    "    'Publication_Time': LabelEncoder(),\n",
    "    'Publication_Day': LabelEncoder()\n",
    "}"
   ]
  },
  {
   "cell_type": "code",
   "execution_count": 10,
   "id": "a8d62b71",
   "metadata": {
    "execution": {
     "iopub.execute_input": "2025-04-03T01:42:28.570193Z",
     "iopub.status.busy": "2025-04-03T01:42:28.569860Z",
     "iopub.status.idle": "2025-04-03T01:42:29.367232Z",
     "shell.execute_reply": "2025-04-03T01:42:29.366137Z"
    },
    "papermill": {
     "duration": 0.805507,
     "end_time": "2025-04-03T01:42:29.369261",
     "exception": false,
     "start_time": "2025-04-03T01:42:28.563754",
     "status": "completed"
    },
    "tags": []
   },
   "outputs": [],
   "source": [
    "# Fit and transform on training data\n",
    "for col, encoder in encoders.items():\n",
    "    train_data[f\"{col}_Encoded\"] = encoder.fit_transform(train_data[col])"
   ]
  },
  {
   "cell_type": "code",
   "execution_count": 11,
   "id": "b1cf635c",
   "metadata": {
    "execution": {
     "iopub.execute_input": "2025-04-03T01:42:29.380675Z",
     "iopub.status.busy": "2025-04-03T01:42:29.380274Z",
     "iopub.status.idle": "2025-04-03T01:42:38.570962Z",
     "shell.execute_reply": "2025-04-03T01:42:38.569950Z"
    },
    "papermill": {
     "duration": 9.198477,
     "end_time": "2025-04-03T01:42:38.572751",
     "exception": false,
     "start_time": "2025-04-03T01:42:29.374274",
     "status": "completed"
    },
    "tags": []
   },
   "outputs": [],
   "source": [
    "# Transform test data using the same encoders\n",
    "for col, encoder in encoders.items():\n",
    "    # Handle unseen labels by assigning a default value (e.g., -1)\n",
    "    test_data[f\"{col}_Encoded\"] = test_data[col].apply(lambda x: x if x in encoder.classes_ else 'Unknown')\n",
    "    # Update encoder classes to include 'Unknown' if not already present\n",
    "    if 'Unknown' not in encoder.classes_:\n",
    "        encoder.classes_ = np.append(encoder.classes_, 'Unknown')\n",
    "    test_data[f\"{col}_Encoded\"] = encoder.transform(test_data[col])"
   ]
  },
  {
   "cell_type": "code",
   "execution_count": 12,
   "id": "2302b643",
   "metadata": {
    "execution": {
     "iopub.execute_input": "2025-04-03T01:42:38.584111Z",
     "iopub.status.busy": "2025-04-03T01:42:38.583738Z",
     "iopub.status.idle": "2025-04-03T01:42:38.947483Z",
     "shell.execute_reply": "2025-04-03T01:42:38.946389Z"
    },
    "papermill": {
     "duration": 0.371523,
     "end_time": "2025-04-03T01:42:38.949456",
     "exception": false,
     "start_time": "2025-04-03T01:42:38.577933",
     "status": "completed"
    },
    "tags": []
   },
   "outputs": [],
   "source": [
    "# One-hot encode Episode_Sentiment\n",
    "onehot_encoder = OneHotEncoder(drop='first', sparse_output=False)\n",
    "onehot_train = onehot_encoder.fit_transform(train_data[[\"Episode_Sentiment\"]])\n",
    "onehot_test = onehot_encoder.transform(test_data[[\"Episode_Sentiment\"]])"
   ]
  },
  {
   "cell_type": "code",
   "execution_count": 13,
   "id": "ae8ad834",
   "metadata": {
    "execution": {
     "iopub.execute_input": "2025-04-03T01:42:38.960464Z",
     "iopub.status.busy": "2025-04-03T01:42:38.960088Z",
     "iopub.status.idle": "2025-04-03T01:42:38.965418Z",
     "shell.execute_reply": "2025-04-03T01:42:38.964325Z"
    },
    "papermill": {
     "duration": 0.012689,
     "end_time": "2025-04-03T01:42:38.967104",
     "exception": false,
     "start_time": "2025-04-03T01:42:38.954415",
     "status": "completed"
    },
    "tags": []
   },
   "outputs": [],
   "source": [
    "# Create DataFrames for one-hot encoded features\n",
    "onehot_cols = onehot_encoder.get_feature_names_out([\"Episode_Sentiment\"])\n",
    "onehot_train_df = pd.DataFrame(onehot_train, columns=onehot_cols, index=train_data.index)\n",
    "onehot_test_df = pd.DataFrame(onehot_test, columns=onehot_cols, index=test_data.index)"
   ]
  },
  {
   "cell_type": "code",
   "execution_count": 14,
   "id": "b4247845",
   "metadata": {
    "execution": {
     "iopub.execute_input": "2025-04-03T01:42:38.978574Z",
     "iopub.status.busy": "2025-04-03T01:42:38.978164Z",
     "iopub.status.idle": "2025-04-03T01:42:38.982561Z",
     "shell.execute_reply": "2025-04-03T01:42:38.981440Z"
    },
    "papermill": {
     "duration": 0.012341,
     "end_time": "2025-04-03T01:42:38.984383",
     "exception": false,
     "start_time": "2025-04-03T01:42:38.972042",
     "status": "completed"
    },
    "tags": []
   },
   "outputs": [],
   "source": [
    "# Drop original categorical columns\n",
    "columns_to_drop = ['Podcast_Name', 'Episode_Title', 'Genre', 'Publication_Time', 'Publication_Day', 'Episode_Sentiment']"
   ]
  },
  {
   "cell_type": "code",
   "execution_count": 15,
   "id": "56264fc2",
   "metadata": {
    "execution": {
     "iopub.execute_input": "2025-04-03T01:42:38.996180Z",
     "iopub.status.busy": "2025-04-03T01:42:38.995796Z",
     "iopub.status.idle": "2025-04-03T01:42:39.183256Z",
     "shell.execute_reply": "2025-04-03T01:42:39.181944Z"
    },
    "papermill": {
     "duration": 0.195636,
     "end_time": "2025-04-03T01:42:39.185595",
     "exception": false,
     "start_time": "2025-04-03T01:42:38.989959",
     "status": "completed"
    },
    "tags": []
   },
   "outputs": [],
   "source": [
    "final_train_data = pd.concat([train_data.drop(columns=columns_to_drop), onehot_train_df], axis=1)\n",
    "final_test_data = pd.concat([test_data.drop(columns=columns_to_drop), onehot_test_df], axis=1)"
   ]
  },
  {
   "cell_type": "code",
   "execution_count": 16,
   "id": "78533990",
   "metadata": {
    "execution": {
     "iopub.execute_input": "2025-04-03T01:42:39.196660Z",
     "iopub.status.busy": "2025-04-03T01:42:39.196262Z",
     "iopub.status.idle": "2025-04-03T01:42:39.216797Z",
     "shell.execute_reply": "2025-04-03T01:42:39.215439Z"
    },
    "papermill": {
     "duration": 0.028434,
     "end_time": "2025-04-03T01:42:39.219026",
     "exception": false,
     "start_time": "2025-04-03T01:42:39.190592",
     "status": "completed"
    },
    "tags": []
   },
   "outputs": [],
   "source": [
    "# Prepare features and target\n",
    "X = final_train_data.drop(\"Listening_Time_minutes\", axis=1)\n",
    "y = final_train_data[\"Listening_Time_minutes\"]"
   ]
  },
  {
   "cell_type": "code",
   "execution_count": 17,
   "id": "7a47f256",
   "metadata": {
    "execution": {
     "iopub.execute_input": "2025-04-03T01:42:39.230089Z",
     "iopub.status.busy": "2025-04-03T01:42:39.229719Z",
     "iopub.status.idle": "2025-04-03T01:42:39.386852Z",
     "shell.execute_reply": "2025-04-03T01:42:39.385817Z"
    },
    "papermill": {
     "duration": 0.164731,
     "end_time": "2025-04-03T01:42:39.388800",
     "exception": false,
     "start_time": "2025-04-03T01:42:39.224069",
     "status": "completed"
    },
    "tags": []
   },
   "outputs": [],
   "source": [
    "# Train-test split for validation\n",
    "X_train, X_val, y_train, y_val = train_test_split(X, y, test_size=0.2, random_state=42)"
   ]
  },
  {
   "cell_type": "code",
   "execution_count": 18,
   "id": "c398b806",
   "metadata": {
    "execution": {
     "iopub.execute_input": "2025-04-03T01:42:39.399869Z",
     "iopub.status.busy": "2025-04-03T01:42:39.399452Z",
     "iopub.status.idle": "2025-04-03T01:42:43.370295Z",
     "shell.execute_reply": "2025-04-03T01:42:43.369405Z"
    },
    "papermill": {
     "duration": 3.979405,
     "end_time": "2025-04-03T01:42:43.373164",
     "exception": false,
     "start_time": "2025-04-03T01:42:39.393759",
     "status": "completed"
    },
    "tags": []
   },
   "outputs": [
    {
     "data": {
      "text/html": [
       "<style>#sk-container-id-1 {color: black;background-color: white;}#sk-container-id-1 pre{padding: 0;}#sk-container-id-1 div.sk-toggleable {background-color: white;}#sk-container-id-1 label.sk-toggleable__label {cursor: pointer;display: block;width: 100%;margin-bottom: 0;padding: 0.3em;box-sizing: border-box;text-align: center;}#sk-container-id-1 label.sk-toggleable__label-arrow:before {content: \"▸\";float: left;margin-right: 0.25em;color: #696969;}#sk-container-id-1 label.sk-toggleable__label-arrow:hover:before {color: black;}#sk-container-id-1 div.sk-estimator:hover label.sk-toggleable__label-arrow:before {color: black;}#sk-container-id-1 div.sk-toggleable__content {max-height: 0;max-width: 0;overflow: hidden;text-align: left;background-color: #f0f8ff;}#sk-container-id-1 div.sk-toggleable__content pre {margin: 0.2em;color: black;border-radius: 0.25em;background-color: #f0f8ff;}#sk-container-id-1 input.sk-toggleable__control:checked~div.sk-toggleable__content {max-height: 200px;max-width: 100%;overflow: auto;}#sk-container-id-1 input.sk-toggleable__control:checked~label.sk-toggleable__label-arrow:before {content: \"▾\";}#sk-container-id-1 div.sk-estimator input.sk-toggleable__control:checked~label.sk-toggleable__label {background-color: #d4ebff;}#sk-container-id-1 div.sk-label input.sk-toggleable__control:checked~label.sk-toggleable__label {background-color: #d4ebff;}#sk-container-id-1 input.sk-hidden--visually {border: 0;clip: rect(1px 1px 1px 1px);clip: rect(1px, 1px, 1px, 1px);height: 1px;margin: -1px;overflow: hidden;padding: 0;position: absolute;width: 1px;}#sk-container-id-1 div.sk-estimator {font-family: monospace;background-color: #f0f8ff;border: 1px dotted black;border-radius: 0.25em;box-sizing: border-box;margin-bottom: 0.5em;}#sk-container-id-1 div.sk-estimator:hover {background-color: #d4ebff;}#sk-container-id-1 div.sk-parallel-item::after {content: \"\";width: 100%;border-bottom: 1px solid gray;flex-grow: 1;}#sk-container-id-1 div.sk-label:hover label.sk-toggleable__label {background-color: #d4ebff;}#sk-container-id-1 div.sk-serial::before {content: \"\";position: absolute;border-left: 1px solid gray;box-sizing: border-box;top: 0;bottom: 0;left: 50%;z-index: 0;}#sk-container-id-1 div.sk-serial {display: flex;flex-direction: column;align-items: center;background-color: white;padding-right: 0.2em;padding-left: 0.2em;position: relative;}#sk-container-id-1 div.sk-item {position: relative;z-index: 1;}#sk-container-id-1 div.sk-parallel {display: flex;align-items: stretch;justify-content: center;background-color: white;position: relative;}#sk-container-id-1 div.sk-item::before, #sk-container-id-1 div.sk-parallel-item::before {content: \"\";position: absolute;border-left: 1px solid gray;box-sizing: border-box;top: 0;bottom: 0;left: 50%;z-index: -1;}#sk-container-id-1 div.sk-parallel-item {display: flex;flex-direction: column;z-index: 1;position: relative;background-color: white;}#sk-container-id-1 div.sk-parallel-item:first-child::after {align-self: flex-end;width: 50%;}#sk-container-id-1 div.sk-parallel-item:last-child::after {align-self: flex-start;width: 50%;}#sk-container-id-1 div.sk-parallel-item:only-child::after {width: 0;}#sk-container-id-1 div.sk-dashed-wrapped {border: 1px dashed gray;margin: 0 0.4em 0.5em 0.4em;box-sizing: border-box;padding-bottom: 0.4em;background-color: white;}#sk-container-id-1 div.sk-label label {font-family: monospace;font-weight: bold;display: inline-block;line-height: 1.2em;}#sk-container-id-1 div.sk-label-container {text-align: center;}#sk-container-id-1 div.sk-container {/* jupyter's `normalize.less` sets `[hidden] { display: none; }` but bootstrap.min.css set `[hidden] { display: none !important; }` so we also need the `!important` here to be able to override the default hidden behavior on the sphinx rendered scikit-learn.org. See: https://github.com/scikit-learn/scikit-learn/issues/21755 */display: inline-block !important;position: relative;}#sk-container-id-1 div.sk-text-repr-fallback {display: none;}</style><div id=\"sk-container-id-1\" class=\"sk-top-container\"><div class=\"sk-text-repr-fallback\"><pre>XGBRegressor(base_score=None, booster=None, callbacks=None,\n",
       "             colsample_bylevel=None, colsample_bynode=None,\n",
       "             colsample_bytree=None, device=None, early_stopping_rounds=None,\n",
       "             enable_categorical=False, eval_metric=None, feature_types=None,\n",
       "             gamma=None, grow_policy=None, importance_type=None,\n",
       "             interaction_constraints=None, learning_rate=None, max_bin=None,\n",
       "             max_cat_threshold=None, max_cat_to_onehot=None,\n",
       "             max_delta_step=None, max_depth=None, max_leaves=None,\n",
       "             min_child_weight=None, missing=nan, monotone_constraints=None,\n",
       "             multi_strategy=None, n_estimators=None, n_jobs=None,\n",
       "             num_parallel_tree=None, random_state=None, ...)</pre><b>In a Jupyter environment, please rerun this cell to show the HTML representation or trust the notebook. <br />On GitHub, the HTML representation is unable to render, please try loading this page with nbviewer.org.</b></div><div class=\"sk-container\" hidden><div class=\"sk-item\"><div class=\"sk-estimator sk-toggleable\"><input class=\"sk-toggleable__control sk-hidden--visually\" id=\"sk-estimator-id-1\" type=\"checkbox\" checked><label for=\"sk-estimator-id-1\" class=\"sk-toggleable__label sk-toggleable__label-arrow\">XGBRegressor</label><div class=\"sk-toggleable__content\"><pre>XGBRegressor(base_score=None, booster=None, callbacks=None,\n",
       "             colsample_bylevel=None, colsample_bynode=None,\n",
       "             colsample_bytree=None, device=None, early_stopping_rounds=None,\n",
       "             enable_categorical=False, eval_metric=None, feature_types=None,\n",
       "             gamma=None, grow_policy=None, importance_type=None,\n",
       "             interaction_constraints=None, learning_rate=None, max_bin=None,\n",
       "             max_cat_threshold=None, max_cat_to_onehot=None,\n",
       "             max_delta_step=None, max_depth=None, max_leaves=None,\n",
       "             min_child_weight=None, missing=nan, monotone_constraints=None,\n",
       "             multi_strategy=None, n_estimators=None, n_jobs=None,\n",
       "             num_parallel_tree=None, random_state=None, ...)</pre></div></div></div></div></div>"
      ],
      "text/plain": [
       "XGBRegressor(base_score=None, booster=None, callbacks=None,\n",
       "             colsample_bylevel=None, colsample_bynode=None,\n",
       "             colsample_bytree=None, device=None, early_stopping_rounds=None,\n",
       "             enable_categorical=False, eval_metric=None, feature_types=None,\n",
       "             gamma=None, grow_policy=None, importance_type=None,\n",
       "             interaction_constraints=None, learning_rate=None, max_bin=None,\n",
       "             max_cat_threshold=None, max_cat_to_onehot=None,\n",
       "             max_delta_step=None, max_depth=None, max_leaves=None,\n",
       "             min_child_weight=None, missing=nan, monotone_constraints=None,\n",
       "             multi_strategy=None, n_estimators=None, n_jobs=None,\n",
       "             num_parallel_tree=None, random_state=None, ...)"
      ]
     },
     "execution_count": 18,
     "metadata": {},
     "output_type": "execute_result"
    }
   ],
   "source": [
    "# Train XGBoost model\n",
    "model = XGBRegressor()\n",
    "model.fit(X_train, y_train)"
   ]
  },
  {
   "cell_type": "code",
   "execution_count": 19,
   "id": "e062d1f6",
   "metadata": {
    "execution": {
     "iopub.execute_input": "2025-04-03T01:42:43.385253Z",
     "iopub.status.busy": "2025-04-03T01:42:43.384931Z",
     "iopub.status.idle": "2025-04-03T01:42:43.579750Z",
     "shell.execute_reply": "2025-04-03T01:42:43.578484Z"
    },
    "papermill": {
     "duration": 0.203308,
     "end_time": "2025-04-03T01:42:43.581946",
     "exception": false,
     "start_time": "2025-04-03T01:42:43.378638",
     "status": "completed"
    },
    "tags": []
   },
   "outputs": [
    {
     "name": "stdout",
     "output_type": "stream",
     "text": [
      "MAE: 9.46\n",
      "R²: 0.77\n"
     ]
    }
   ],
   "source": [
    "# Validate\n",
    "y_pred = model.predict(X_val)\n",
    "print(f\"MAE: {mean_absolute_error(y_val, y_pred):.2f}\")\n",
    "print(f\"R²: {r2_score(y_val, y_pred):.2f}\")"
   ]
  },
  {
   "cell_type": "code",
   "execution_count": 20,
   "id": "86de269a",
   "metadata": {
    "execution": {
     "iopub.execute_input": "2025-04-03T01:42:43.594914Z",
     "iopub.status.busy": "2025-04-03T01:42:43.594555Z",
     "iopub.status.idle": "2025-04-03T01:42:43.867822Z",
     "shell.execute_reply": "2025-04-03T01:42:43.866953Z"
    },
    "papermill": {
     "duration": 0.282379,
     "end_time": "2025-04-03T01:42:43.869944",
     "exception": false,
     "start_time": "2025-04-03T01:42:43.587565",
     "status": "completed"
    },
    "tags": []
   },
   "outputs": [],
   "source": [
    "# Predict on test data\n",
    "test_pred = model.predict(final_test_data)"
   ]
  },
  {
   "cell_type": "code",
   "execution_count": 21,
   "id": "45bc8b4c",
   "metadata": {
    "execution": {
     "iopub.execute_input": "2025-04-03T01:42:43.884385Z",
     "iopub.status.busy": "2025-04-03T01:42:43.883846Z",
     "iopub.status.idle": "2025-04-03T01:42:44.248482Z",
     "shell.execute_reply": "2025-04-03T01:42:44.247190Z"
    },
    "papermill": {
     "duration": 0.373897,
     "end_time": "2025-04-03T01:42:44.250340",
     "exception": false,
     "start_time": "2025-04-03T01:42:43.876443",
     "status": "completed"
    },
    "tags": []
   },
   "outputs": [
    {
     "name": "stdout",
     "output_type": "stream",
     "text": [
      "Submission shape: (250000, 2)\n"
     ]
    }
   ],
   "source": [
    "# Create submission file\n",
    "submission = pd.DataFrame({\"id\": test_data[\"id\"], \"Listening_Time_minutes\": test_pred})\n",
    "submission.to_csv(\"submission.csv\", index=False)\n",
    "print(\"Submission shape:\", submission.shape)"
   ]
  }
 ],
 "metadata": {
  "kaggle": {
   "accelerator": "none",
   "dataSources": [
    {
     "databundleVersionId": 11351736,
     "sourceId": 91715,
     "sourceType": "competition"
    }
   ],
   "dockerImageVersionId": 30918,
   "isGpuEnabled": false,
   "isInternetEnabled": true,
   "language": "python",
   "sourceType": "notebook"
  },
  "kernelspec": {
   "display_name": "Python 3",
   "language": "python",
   "name": "python3"
  },
  "language_info": {
   "codemirror_mode": {
    "name": "ipython",
    "version": 3
   },
   "file_extension": ".py",
   "mimetype": "text/x-python",
   "name": "python",
   "nbconvert_exporter": "python",
   "pygments_lexer": "ipython3",
   "version": "3.10.12"
  },
  "papermill": {
   "default_parameters": {},
   "duration": 26.024921,
   "end_time": "2025-04-03T01:42:45.077042",
   "environment_variables": {},
   "exception": null,
   "input_path": "__notebook__.ipynb",
   "output_path": "__notebook__.ipynb",
   "parameters": {},
   "start_time": "2025-04-03T01:42:19.052121",
   "version": "2.6.0"
  }
 },
 "nbformat": 4,
 "nbformat_minor": 5
}
